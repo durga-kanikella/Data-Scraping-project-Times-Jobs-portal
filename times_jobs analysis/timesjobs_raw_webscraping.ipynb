{
  "nbformat": 4,
  "nbformat_minor": 0,
  "metadata": {
    "colab": {
      "name": "timesjobs_raw_webscraping.ipynb",
      "provenance": [],
      "collapsed_sections": []
    },
    "kernelspec": {
      "name": "python3",
      "display_name": "Python 3"
    },
    "language_info": {
      "name": "python"
    }
  },
  "cells": [
    {
      "cell_type": "code",
      "execution_count": 1,
      "metadata": {
        "id": "i8C_i0AF6Qvk"
      },
      "outputs": [],
      "source": [
        "from bs4 import BeautifulSoup as bs\n",
        "import requests \n",
        "import csv\n",
        "import pandas as pd\n",
        "\n",
        "company=[]\n",
        "experience = [] \n",
        "location=[]\n",
        "description= []\n",
        "skills=[]\n",
        "date=[]\n"
      ]
    },
    {
      "cell_type": "code",
      "source": [
        "for page in range(1,401):\n",
        "  pages= requests.get(\"https://www.timesjobs.com/candidate/job-search.html?from=submit&actualTxtKeywords=python&searchBy=0&rdoOperator=OR&searchType=personalizedSearch&luceneResultSize=25&postWeek=60&txtKeywords=python&pDate=I&sequence=2&startPage={}\".format(page)) # URL of the website which you want to scrape\n",
        "  soup=bs(pages.content,'html.parser')\n",
        "  soup.prettify()\n",
        "\n",
        "  jobs=soup.find_all('li',class_=\"clearfix job-bx wht-shd-bx\")\n",
        "\n",
        "  for job in jobs:\n",
        "    company.append(job.find('h3',class_=\"joblist-comp-name\").get_text().strip())\n",
        "\n",
        "    experience.append(job.find('i',class_=\"material-icons\").next_sibling)\n",
        "\n",
        "    location.append(job.find('ul',class_=\"top-jd-dtl clearfix\").find('span').get_text())\n",
        "\n",
        "    desc_lst=job.find('label')\n",
        "    if desc_lst.text=='Job Description:':\n",
        "      description.append(desc_lst.next_sibling)\n",
        "\n",
        "    skills.append(job.find('span',class_=\"srp-skills\").text)"
      ],
      "metadata": {
        "id": "wE4nYvWk1vG8"
      },
      "execution_count": 2,
      "outputs": []
    },
    {
      "cell_type": "code",
      "source": [
        "print(len(company))\n",
        "print(len(experience))\n",
        "print(len(location))\n",
        "print(len(description))\n",
        "print(len(skills))"
      ],
      "metadata": {
        "colab": {
          "base_uri": "https://localhost:8080/"
        },
        "id": "UgafSg97uLd6",
        "outputId": "177ad4df-03fa-49c3-aee6-a4df4f800d53"
      },
      "execution_count": 3,
      "outputs": [
        {
          "output_type": "stream",
          "name": "stdout",
          "text": [
            "10000\n",
            "10000\n",
            "10000\n",
            "10000\n",
            "10000\n"
          ]
        }
      ]
    },
    {
      "cell_type": "code",
      "source": [
        "print(company)\n",
        "print(experience)\n",
        "print(location)\n",
        "print(description)\n",
        "print(skills)"
      ],
      "metadata": {
        "colab": {
          "base_uri": "https://localhost:8080/"
        },
        "id": "4XiIXKOOvdRu",
        "outputId": "3f4b1205-ae98-431e-e5ea-2a2432698895"
      },
      "execution_count": 4,
      "outputs": [
        {
          "output_type": "stream",
          "name": "stderr",
          "text": [
            "IOPub data rate exceeded.\n",
            "The notebook server will temporarily stop sending output\n",
            "to the client in order to avoid crashing it.\n",
            "To change this limit, set the config variable\n",
            "`--NotebookApp.iopub_data_rate_limit`.\n",
            "\n",
            "Current values:\n",
            "NotebookApp.iopub_data_rate_limit=1000000.0 (bytes/sec)\n",
            "NotebookApp.rate_limit_window=3.0 (secs)\n",
            "\n"
          ]
        }
      ]
    },
    {
      "cell_type": "code",
      "source": [
        "data=pd.DataFrame({'Company_Name':company,'Experience':experience,'Location':location,'Description':description,'Skills':skills})\n",
        "data.head(10)"
      ],
      "metadata": {
        "colab": {
          "base_uri": "https://localhost:8080/",
          "height": 363
        },
        "id": "Til6OGUYIoWf",
        "outputId": "5349e3ac-8fcb-4e1a-9609-dcc95fee5c2c"
      },
      "execution_count": 5,
      "outputs": [
        {
          "output_type": "execute_result",
          "data": {
            "text/plain": [
              "                     Company_Name  Experience                  Location  \\\n",
              "0  Anantha Cyber Tech Pvt Limited   3 - 6 yrs    Hyderabad/Secunderabad   \n",
              "1                 quality thought   2 - 5 yrs    Hyderabad/Secunderabad   \n",
              "2          DREAMAJAX TECHNOLOGIES   4 - 7 yrs     Bengaluru / Bangalore   \n",
              "3               Relevance Lab Inc   1 - 3 yrs     Bengaluru / Bangalore   \n",
              "4                     Intellectyx   3 - 6 yrs                Coimbatore   \n",
              "5                     WHITE FORCE  8 - 11 yrs                   Gurgaon   \n",
              "6             Congruent Info-Tech   3 - 6 yrs                   Chennai   \n",
              "7  e-stone information technology   5 - 8 yrs    Hyderabad/Secunderabad   \n",
              "8                contactpoint 360   2 - 3 yrs                             \n",
              "9             ACENET TECHNOLOGIES   3 - 6 yrs  Gurgaon,  Chennai,  Pune   \n",
              "\n",
              "                                         Description  \\\n",
              "0  \\r\\nJob title Openings for Python Developer De...   \n",
              "1  \\r\\nJob Description:Contribute to designing an...   \n",
              "2  \\r\\nPYTHON DEVELOPER B.E  /  B.Tech  /  MCA  /...   \n",
              "3  \\r\\nPython Experience: 1-3 years Work Location...   \n",
              "4  \\r\\nResponsibilities: Develop and deliver web ...   \n",
              "5  \\r\\nArea / Skill Lead profile with at least 8 ...   \n",
              "6  \\r\\nYour Responsiblities Participate in the De...   \n",
              "7  \\r\\nJOB DescriptionResponsibilities 5  years o...   \n",
              "8  \\r\\nCandidate we are looking for:We are lookin...   \n",
              "9  \\r\\nJob Description: Knowledge of design princ...   \n",
              "\n",
              "                                              Skills  \n",
              "0  \\npython  ,  c    ,  c  ,  information technol...  \n",
              "1  \\r\\n      \\r\\n          rest  ,  python  ,  dj...  \n",
              "2  \\npython  ,  django  ,  api  ,  sql  ,  nosql\\...  \n",
              "3  \\npython  ,  html5  ,  javascript  ,  django  ...  \n",
              "4  \\npython  ,  mobile  ,  javascript  ,  react.j...  \n",
              "5  \\r\\n      \\r\\n          algorithms  ,  python ...  \n",
              "6  \\r\\n      \\r\\n          c#  ,  algorithms  ,  ...  \n",
              "7  \\r\\n      \\r\\n          algorithms  ,  python ...  \n",
              "8  \\npython  ,  cloud services  ,  storage  ,  sq...  \n",
              "9  \\r\\n      \\r\\n          fundamentals  ,  pytho...  "
            ],
            "text/html": [
              "\n",
              "  <div id=\"df-b02aff02-b1f1-4101-92d4-b06466b9ce9e\">\n",
              "    <div class=\"colab-df-container\">\n",
              "      <div>\n",
              "<style scoped>\n",
              "    .dataframe tbody tr th:only-of-type {\n",
              "        vertical-align: middle;\n",
              "    }\n",
              "\n",
              "    .dataframe tbody tr th {\n",
              "        vertical-align: top;\n",
              "    }\n",
              "\n",
              "    .dataframe thead th {\n",
              "        text-align: right;\n",
              "    }\n",
              "</style>\n",
              "<table border=\"1\" class=\"dataframe\">\n",
              "  <thead>\n",
              "    <tr style=\"text-align: right;\">\n",
              "      <th></th>\n",
              "      <th>Company_Name</th>\n",
              "      <th>Experience</th>\n",
              "      <th>Location</th>\n",
              "      <th>Description</th>\n",
              "      <th>Skills</th>\n",
              "    </tr>\n",
              "  </thead>\n",
              "  <tbody>\n",
              "    <tr>\n",
              "      <th>0</th>\n",
              "      <td>Anantha Cyber Tech Pvt Limited</td>\n",
              "      <td>3 - 6 yrs</td>\n",
              "      <td>Hyderabad/Secunderabad</td>\n",
              "      <td>\\r\\nJob title Openings for Python Developer De...</td>\n",
              "      <td>\\npython  ,  c    ,  c  ,  information technol...</td>\n",
              "    </tr>\n",
              "    <tr>\n",
              "      <th>1</th>\n",
              "      <td>quality thought</td>\n",
              "      <td>2 - 5 yrs</td>\n",
              "      <td>Hyderabad/Secunderabad</td>\n",
              "      <td>\\r\\nJob Description:Contribute to designing an...</td>\n",
              "      <td>\\r\\n      \\r\\n          rest  ,  python  ,  dj...</td>\n",
              "    </tr>\n",
              "    <tr>\n",
              "      <th>2</th>\n",
              "      <td>DREAMAJAX TECHNOLOGIES</td>\n",
              "      <td>4 - 7 yrs</td>\n",
              "      <td>Bengaluru / Bangalore</td>\n",
              "      <td>\\r\\nPYTHON DEVELOPER B.E  /  B.Tech  /  MCA  /...</td>\n",
              "      <td>\\npython  ,  django  ,  api  ,  sql  ,  nosql\\...</td>\n",
              "    </tr>\n",
              "    <tr>\n",
              "      <th>3</th>\n",
              "      <td>Relevance Lab Inc</td>\n",
              "      <td>1 - 3 yrs</td>\n",
              "      <td>Bengaluru / Bangalore</td>\n",
              "      <td>\\r\\nPython Experience: 1-3 years Work Location...</td>\n",
              "      <td>\\npython  ,  html5  ,  javascript  ,  django  ...</td>\n",
              "    </tr>\n",
              "    <tr>\n",
              "      <th>4</th>\n",
              "      <td>Intellectyx</td>\n",
              "      <td>3 - 6 yrs</td>\n",
              "      <td>Coimbatore</td>\n",
              "      <td>\\r\\nResponsibilities: Develop and deliver web ...</td>\n",
              "      <td>\\npython  ,  mobile  ,  javascript  ,  react.j...</td>\n",
              "    </tr>\n",
              "    <tr>\n",
              "      <th>5</th>\n",
              "      <td>WHITE FORCE</td>\n",
              "      <td>8 - 11 yrs</td>\n",
              "      <td>Gurgaon</td>\n",
              "      <td>\\r\\nArea / Skill Lead profile with at least 8 ...</td>\n",
              "      <td>\\r\\n      \\r\\n          algorithms  ,  python ...</td>\n",
              "    </tr>\n",
              "    <tr>\n",
              "      <th>6</th>\n",
              "      <td>Congruent Info-Tech</td>\n",
              "      <td>3 - 6 yrs</td>\n",
              "      <td>Chennai</td>\n",
              "      <td>\\r\\nYour Responsiblities Participate in the De...</td>\n",
              "      <td>\\r\\n      \\r\\n          c#  ,  algorithms  ,  ...</td>\n",
              "    </tr>\n",
              "    <tr>\n",
              "      <th>7</th>\n",
              "      <td>e-stone information technology</td>\n",
              "      <td>5 - 8 yrs</td>\n",
              "      <td>Hyderabad/Secunderabad</td>\n",
              "      <td>\\r\\nJOB DescriptionResponsibilities 5  years o...</td>\n",
              "      <td>\\r\\n      \\r\\n          algorithms  ,  python ...</td>\n",
              "    </tr>\n",
              "    <tr>\n",
              "      <th>8</th>\n",
              "      <td>contactpoint 360</td>\n",
              "      <td>2 - 3 yrs</td>\n",
              "      <td></td>\n",
              "      <td>\\r\\nCandidate we are looking for:We are lookin...</td>\n",
              "      <td>\\npython  ,  cloud services  ,  storage  ,  sq...</td>\n",
              "    </tr>\n",
              "    <tr>\n",
              "      <th>9</th>\n",
              "      <td>ACENET TECHNOLOGIES</td>\n",
              "      <td>3 - 6 yrs</td>\n",
              "      <td>Gurgaon,  Chennai,  Pune</td>\n",
              "      <td>\\r\\nJob Description: Knowledge of design princ...</td>\n",
              "      <td>\\r\\n      \\r\\n          fundamentals  ,  pytho...</td>\n",
              "    </tr>\n",
              "  </tbody>\n",
              "</table>\n",
              "</div>\n",
              "      <button class=\"colab-df-convert\" onclick=\"convertToInteractive('df-b02aff02-b1f1-4101-92d4-b06466b9ce9e')\"\n",
              "              title=\"Convert this dataframe to an interactive table.\"\n",
              "              style=\"display:none;\">\n",
              "        \n",
              "  <svg xmlns=\"http://www.w3.org/2000/svg\" height=\"24px\"viewBox=\"0 0 24 24\"\n",
              "       width=\"24px\">\n",
              "    <path d=\"M0 0h24v24H0V0z\" fill=\"none\"/>\n",
              "    <path d=\"M18.56 5.44l.94 2.06.94-2.06 2.06-.94-2.06-.94-.94-2.06-.94 2.06-2.06.94zm-11 1L8.5 8.5l.94-2.06 2.06-.94-2.06-.94L8.5 2.5l-.94 2.06-2.06.94zm10 10l.94 2.06.94-2.06 2.06-.94-2.06-.94-.94-2.06-.94 2.06-2.06.94z\"/><path d=\"M17.41 7.96l-1.37-1.37c-.4-.4-.92-.59-1.43-.59-.52 0-1.04.2-1.43.59L10.3 9.45l-7.72 7.72c-.78.78-.78 2.05 0 2.83L4 21.41c.39.39.9.59 1.41.59.51 0 1.02-.2 1.41-.59l7.78-7.78 2.81-2.81c.8-.78.8-2.07 0-2.86zM5.41 20L4 18.59l7.72-7.72 1.47 1.35L5.41 20z\"/>\n",
              "  </svg>\n",
              "      </button>\n",
              "      \n",
              "  <style>\n",
              "    .colab-df-container {\n",
              "      display:flex;\n",
              "      flex-wrap:wrap;\n",
              "      gap: 12px;\n",
              "    }\n",
              "\n",
              "    .colab-df-convert {\n",
              "      background-color: #E8F0FE;\n",
              "      border: none;\n",
              "      border-radius: 50%;\n",
              "      cursor: pointer;\n",
              "      display: none;\n",
              "      fill: #1967D2;\n",
              "      height: 32px;\n",
              "      padding: 0 0 0 0;\n",
              "      width: 32px;\n",
              "    }\n",
              "\n",
              "    .colab-df-convert:hover {\n",
              "      background-color: #E2EBFA;\n",
              "      box-shadow: 0px 1px 2px rgba(60, 64, 67, 0.3), 0px 1px 3px 1px rgba(60, 64, 67, 0.15);\n",
              "      fill: #174EA6;\n",
              "    }\n",
              "\n",
              "    [theme=dark] .colab-df-convert {\n",
              "      background-color: #3B4455;\n",
              "      fill: #D2E3FC;\n",
              "    }\n",
              "\n",
              "    [theme=dark] .colab-df-convert:hover {\n",
              "      background-color: #434B5C;\n",
              "      box-shadow: 0px 1px 3px 1px rgba(0, 0, 0, 0.15);\n",
              "      filter: drop-shadow(0px 1px 2px rgba(0, 0, 0, 0.3));\n",
              "      fill: #FFFFFF;\n",
              "    }\n",
              "  </style>\n",
              "\n",
              "      <script>\n",
              "        const buttonEl =\n",
              "          document.querySelector('#df-b02aff02-b1f1-4101-92d4-b06466b9ce9e button.colab-df-convert');\n",
              "        buttonEl.style.display =\n",
              "          google.colab.kernel.accessAllowed ? 'block' : 'none';\n",
              "\n",
              "        async function convertToInteractive(key) {\n",
              "          const element = document.querySelector('#df-b02aff02-b1f1-4101-92d4-b06466b9ce9e');\n",
              "          const dataTable =\n",
              "            await google.colab.kernel.invokeFunction('convertToInteractive',\n",
              "                                                     [key], {});\n",
              "          if (!dataTable) return;\n",
              "\n",
              "          const docLinkHtml = 'Like what you see? Visit the ' +\n",
              "            '<a target=\"_blank\" href=https://colab.research.google.com/notebooks/data_table.ipynb>data table notebook</a>'\n",
              "            + ' to learn more about interactive tables.';\n",
              "          element.innerHTML = '';\n",
              "          dataTable['output_type'] = 'display_data';\n",
              "          await google.colab.output.renderOutput(dataTable, element);\n",
              "          const docLink = document.createElement('div');\n",
              "          docLink.innerHTML = docLinkHtml;\n",
              "          element.appendChild(docLink);\n",
              "        }\n",
              "      </script>\n",
              "    </div>\n",
              "  </div>\n",
              "  "
            ]
          },
          "metadata": {},
          "execution_count": 5
        }
      ]
    },
    {
      "cell_type": "code",
      "source": [
        "data.to_csv('timesjobs_raw_data.csv')"
      ],
      "metadata": {
        "id": "JjUZiiuIvinT"
      },
      "execution_count": 6,
      "outputs": []
    },
    {
      "cell_type": "code",
      "source": [
        ""
      ],
      "metadata": {
        "id": "qtfQS4OuTcxX"
      },
      "execution_count": null,
      "outputs": []
    }
  ]
}